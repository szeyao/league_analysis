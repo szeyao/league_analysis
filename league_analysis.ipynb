{
 "cells": [
  {
   "cell_type": "code",
   "execution_count": 2,
   "metadata": {},
   "outputs": [],
   "source": [
    "import pandas as pd\n",
    "import matplotlib.pyplot as plt\n",
    "import numpy as np\n",
    "import football as fb\n",
    "import os\n",
    "from sklearn.preprocessing import LabelEncoder\n"
   ]
  },
  {
   "cell_type": "code",
   "execution_count": null,
   "metadata": {},
   "outputs": [],
   "source": [
    "#read Copy of Accuyield_Test_Package_Data_Scientist_V3(1).xlsx sheet 2\n",
    "df = pd.read_excel('Copy of Accuyield_Test_Package_Data_Scientist_V3(1).xlsx', sheet_name=1)\n",
    "df\n"
   ]
  },
  {
   "cell_type": "code",
   "execution_count": null,
   "metadata": {},
   "outputs": [],
   "source": [
    "#filter either hometeam or awayteam is 'Arsenal' and 'Sheffield United'\n",
    "team_1 = 'Arsenal'\n",
    "team_2 = 'Sheffield United'\n",
    "\n",
    "dfx = df[(df['HomeTeam'] == team_1) & (df['AwayTeam'] == team_2) | (df['HomeTeam'] == team_2) & (df['AwayTeam'] == team_1)]\n",
    "dfx[['Season','HomeTeam', 'AwayTeam', 'HomeScore', 'AwayScore', 'TotalGoals']] "
   ]
  },
  {
   "cell_type": "code",
   "execution_count": null,
   "metadata": {},
   "outputs": [],
   "source": []
  },
  {
   "cell_type": "code",
   "execution_count": 6,
   "metadata": {},
   "outputs": [],
   "source": []
  },
  {
   "cell_type": "markdown",
   "metadata": {},
   "source": [
    "### Check team stats"
   ]
  },
  {
   "cell_type": "code",
   "execution_count": null,
   "metadata": {},
   "outputs": [],
   "source": [
    "\n",
    "for i in df['Season'].unique():\n",
    "    # print(f'Season: {i}')\n",
    "    season_df = df[df['Season'] == i]\n",
    "print(f'Season: {i}')\n",
    "# Assuming 'season_df' is your main DataFrame with match data\n",
    "teams = pd.concat([season_df['HomeTeam'], season_df['AwayTeam']]).unique()\n",
    "\n",
    "# Initialize a dictionary to store aggregated stats\n",
    "team_stats = {team: {} for team in teams}\n",
    "calender_date = season_df['Date'].unique()\n",
    "# Iterate over each team and aggregate data\n",
    "for team in teams:\n",
    "    # Home statistics (when the team is the home team)\n",
    "    home_matches = season_df[season_df['HomeTeam'] == team]\n",
    "    home_goals_scored = home_matches['HomeScore'].sum()\n",
    "    home_goals_conceded = home_matches['AwayScore'].sum()\n",
    "    home_corners = home_matches['HomeCornerKicks'].sum()\n",
    "    home_yellow_cards = home_matches['HomeYellowCards'].sum()\n",
    "    home_shots = home_matches['HomeShots'].sum()\n",
    "    \n",
    "    # Away statistics (when the team is the away team)\n",
    "    away_matches = season_df[season_df['AwayTeam'] == team]\n",
    "    away_goals_scored = away_matches['AwayScore'].sum()\n",
    "    away_goals_conceded = away_matches['HomeScore'].sum()\n",
    "    away_corners = away_matches['AwayCornerKicks'].sum()\n",
    "    away_yellow_cards = away_matches['AwayYellowCards'].sum()\n",
    "    away_shots = away_matches['AwayShots'].sum()\n",
    "    \n",
    "    # Total statistics\n",
    "    total_matches_played = len(home_matches) + len(away_matches)\n",
    "    total_goals_scored = home_goals_scored + away_goals_scored\n",
    "    total_goals_conceded = home_goals_conceded + away_goals_conceded\n",
    "    \n",
    "    # Store aggregated data in the dictionary\n",
    "    team_stats[team] = {\n",
    "        'MatchesPlayed': total_matches_played,\n",
    "        'GoalsScored': total_goals_scored,\n",
    "        'GoalsConceded': total_goals_conceded,\n",
    "        'GoalDifference': total_goals_scored - total_goals_conceded,\n",
    "        'HomeGoalsScored': home_goals_scored,\n",
    "        'AwayGoalsScored': away_goals_scored,\n",
    "        'HomeCornerKicks': home_corners,\n",
    "        'AwayCornerKicks': away_corners,\n",
    "        'HomeYellowCards': home_yellow_cards,\n",
    "        'AwayYellowCards': away_yellow_cards,\n",
    "        'HomeShots': home_shots,\n",
    "        'AwayShots': away_shots\n",
    "    }\n",
    "\n",
    "# Convert dictionary to DataFrame\n",
    "team_stats_season_df = pd.DataFrame.from_dict(team_stats, orient='index')\n",
    "team_stats_season_df"
   ]
  },
  {
   "cell_type": "code",
   "execution_count": null,
   "metadata": {},
   "outputs": [],
   "source": [
    "target = 'GoalsScored'\n",
    "team_stats_season_df[[f'Home{target}',f'Away{target}']].plot(kind='bar', figsize=(15, 6), title=f'{target} by Team')"
   ]
  },
  {
   "cell_type": "markdown",
   "metadata": {},
   "source": [
    "### Derive Team Stats (up till the current date)"
   ]
  },
  {
   "cell_type": "code",
   "execution_count": null,
   "id": "01J8M47JCRFJZ555GZGMNZV6B9",
   "metadata": {},
   "outputs": [],
   "source": [
    "df"
   ]
  },
  {
   "cell_type": "code",
   "execution_count": 14,
   "metadata": {},
   "outputs": [],
   "source": [
    "\n",
    "\n",
    "df = df.copy()\n",
    "df['Date'] = pd.to_datetime(df['Date'])\n",
    "df = df.sort_values('Date')\n",
    "calendar_dates = df['Date'].unique()\n",
    "teams = pd.concat([df['HomeTeam'], df['AwayTeam']]).unique()\n",
    "team_stats_daily = []\n",
    "\n",
    "saving_path = 'relationship_matrix'\n",
    "if not os.path.exists(saving_path):\n",
    "    os.makedirs(saving_path)\n",
    "    # Make sure use the data 1 day before the current date in forecasting\n",
    "    for current_date in calendar_dates:\n",
    "        matches_up_to_date = df[df['Date'] <= current_date]\n",
    "        possession_matrix  = fb.create_relationship_matrix(matches_up_to_date, 'Possession')\n",
    "        possession_matrix = possession_matrix.fillna(0)\n",
    "        fouls_matrix = fb.create_relationship_matrix(matches_up_to_date, 'Fouls')\n",
    "        fouls_matrix = fouls_matrix.fillna(0)\n",
    "        successful_passes_matrix = fb.create_relationship_matrix(matches_up_to_date, 'SuccessfulPassesPct')\n",
    "        successful_passes_matrix = successful_passes_matrix.fillna(0)\n",
    "        date_str = current_date.strftime('%Y-%m-%d')\n",
    "        possession_matrix.to_csv(f'{saving_path}/possession_matrix_{date_str}.csv')\n",
    "        fouls_matrix.to_csv(f'{saving_path}/fouls_matrix_{date_str}.csv')\n",
    "        successful_passes_matrix.to_csv(f'{saving_path}/successful_passes_matrix_{date_str}.csv')\n",
    "else:\n",
    "    print(f'{saving_path} already exists')\n",
    "\n",
    "\n",
    "\n",
    "\n",
    "\n",
    "\n",
    "    "
   ]
  },
  {
   "cell_type": "code",
   "execution_count": null,
   "metadata": {},
   "outputs": [],
   "source": [
    "season_df['Date'] = pd.to_datetime(season_df['Date'])  # Ensure the 'Date' column is in datetime format\n",
    "season_df = season_df.sort_values('Date')  # Sort matches by date\n",
    "calendar_dates = season_df['Date'].unique()\n",
    "teams = pd.concat([season_df['HomeTeam'], season_df['AwayTeam']]).unique()\n",
    "team_stats_daily = []\n",
    "\n",
    "# Iterate over each calendar date\n",
    "for current_date in calendar_dates:\n",
    "    matches_up_to_date = season_df[season_df['Date'] <= current_date]\n",
    "    for team in teams:\n",
    "        home_matches = matches_up_to_date[matches_up_to_date['HomeTeam'] == team]\n",
    "        home_goals_scored = home_matches['HomeScore'].sum()\n",
    "        home_goals_conceded = home_matches['AwayScore'].sum()\n",
    "        home_corners = home_matches['HomeCornerKicks'].sum()\n",
    "        home_yellow_cards = home_matches['HomeYellowCards'].sum()\n",
    "        home_shots = home_matches['HomeShots'].sum()\n",
    "        away_matches = matches_up_to_date[matches_up_to_date['AwayTeam'] == team]\n",
    "        away_goals_scored = away_matches['AwayScore'].sum()\n",
    "        away_goals_conceded = away_matches['HomeScore'].sum()\n",
    "        away_corners = away_matches['AwayCornerKicks'].sum()\n",
    "        away_yellow_cards = away_matches['AwayYellowCards'].sum()\n",
    "        away_shots = away_matches['AwayShots'].sum()\n",
    "        total_matches_played = len(home_matches) + len(away_matches)\n",
    "        total_goals_scored = home_goals_scored + away_goals_scored\n",
    "        total_goals_conceded = home_goals_conceded + away_goals_conceded\n",
    "        team_stats_daily.append({\n",
    "            'Team': team,\n",
    "            'Date': current_date,\n",
    "            'MatchesPlayed': total_matches_played,\n",
    "            'GoalsScored': total_goals_scored,\n",
    "            'GoalsConceded': total_goals_conceded,\n",
    "            'GoalDifference': total_goals_scored - total_goals_conceded,\n",
    "            'HomeGoalsScored': home_goals_scored,\n",
    "            'AwayGoalsScored': away_goals_scored,\n",
    "            'HomeCornerKicks': home_corners,\n",
    "            'AwayCornerKicks': away_corners,\n",
    "            'HomeYellowCards': home_yellow_cards,\n",
    "            'AwayYellowCards': away_yellow_cards,\n",
    "            'HomeShots': home_shots,\n",
    "            'AwayShots': away_shots\n",
    "        })\n",
    "team_stats_daily_df = pd.DataFrame(team_stats_daily)\n",
    "team_stats_daily_df"
   ]
  },
  {
   "cell_type": "markdown",
   "metadata": {},
   "source": [
    "### Add label encoding for team names"
   ]
  },
  {
   "cell_type": "markdown",
   "metadata": {},
   "source": []
  },
  {
   "cell_type": "code",
   "execution_count": null,
   "id": "01J8M61EWY0RQH0P2TEYBWYM1J",
   "metadata": {},
   "outputs": [],
   "source": [
    "df \n",
    "# Initialize LabelEncoder\n",
    "label_encoder = LabelEncoder()\n",
    "\n",
    "# Apply label encoding to HomeTeam and AwayTeam\n",
    "df['HomeTeamLE'] = label_encoder.fit_transform(df['HomeTeam'])\n",
    "df['AwayTeamLE'] = label_encoder.fit_transform(df['AwayTeam'])\n",
    "\n",
    "# Combine encoded team names with PCA-transformed features\n",
    "X_combined = pd.concat([relationship_matrix_pca_df, df[['HomeTeamEncoded', 'AwayTeamEncoded']]], axis=1)\n"
   ]
  },
  {
   "cell_type": "code",
   "execution_count": null,
   "metadata": {},
   "outputs": [],
   "source": []
  },
  {
   "cell_type": "code",
   "execution_count": null,
   "metadata": {},
   "outputs": [],
   "source": []
  },
  {
   "cell_type": "code",
   "execution_count": null,
   "metadata": {},
   "outputs": [],
   "source": []
  },
  {
   "cell_type": "code",
   "execution_count": null,
   "metadata": {},
   "outputs": [],
   "source": []
  },
  {
   "cell_type": "code",
   "execution_count": null,
   "metadata": {},
   "outputs": [],
   "source": [
    "# trainingcol = ['HomeTeam', 'AwayTeam', '   N "
   ]
  }
 ],
 "metadata": {
  "kernelspec": {
   "display_name": ".venv",
   "language": "python",
   "name": "python3"
  },
  "language_info": {
   "codemirror_mode": {
    "name": "ipython",
    "version": 3
   },
   "file_extension": ".py",
   "mimetype": "text/x-python",
   "name": "python",
   "nbconvert_exporter": "python",
   "pygments_lexer": "ipython3",
   "version": "3.10.11"
  }
 },
 "nbformat": 4,
 "nbformat_minor": 2
}
